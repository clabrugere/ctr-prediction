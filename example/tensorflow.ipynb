{
 "cells": [
  {
   "cell_type": "code",
   "execution_count": null,
   "metadata": {},
   "outputs": [],
   "source": [
    "import pandas as pd\n",
    "import numpy as np\n",
    "import tensorflow as tf\n",
    "from sklearn.model_selection import train_test_split\n",
    "\n",
    "from models.tensorflow.deepwide import DeepWide\n",
    "from models.tensorflow.autoint import AutoInt\n",
    "from models.tensorflow.dcn import DCN\n",
    "\n",
    "\n",
    "def set_seed(seed=0):\n",
    "    tf.keras.utils.set_random_seed(seed)\n",
    "    tf.config.experimental.enable_op_determinism()"
   ]
  },
  {
   "cell_type": "code",
   "execution_count": null,
   "metadata": {},
   "outputs": [],
   "source": [
    "def df_to_dataset(X, y, shuffle=True, batch_size=32):\n",
    "    ds = tf.data.Dataset.from_tensor_slices((X, y))\n",
    "\n",
    "    if shuffle:\n",
    "        ds = ds.shuffle(buffer_size=len(X))\n",
    "\n",
    "    ds = ds.batch(batch_size, drop_remainder=True)\n",
    "    ds = ds.prefetch(tf.data.AUTOTUNE)\n",
    "\n",
    "    return ds\n",
    "\n",
    "\n",
    "batch_size = 4096\n",
    "learning_rate = 1e-3\n",
    "\n",
    "# prepare splits\n",
    "X_train, X_test, y_train, y_test = train_test_split(X, y, test_size=0.2, shuffle=False)\n",
    "X_train, X_val, y_train, y_val = train_test_split(X_train, y_train, test_size=0.1, shuffle=False)\n",
    "\n",
    "assert len(set(X_train.index) & set(X_val.index) & set(X_test.index)) == 0\n",
    "\n",
    "num_embedding = np.max(X_train)\n",
    "num_features = X_train.shape[1]\n",
    "\n",
    "ds_train = df_to_dataset(X_train, y_train, batch_size=batch_size)\n",
    "ds_val = df_to_dataset(X_val, y_val, batch_size=batch_size)\n",
    "ds_test = df_to_dataset(X_test, y_test, shuffle=False, batch_size=batch_size)"
   ]
  },
  {
   "cell_type": "code",
   "execution_count": null,
   "metadata": {},
   "outputs": [],
   "source": [
    "def train(\n",
    "    model,\n",
    "    ds_train,\n",
    "    ds_val,\n",
    "    max_epochs=10,\n",
    "    learning_rate=1e-3\n",
    "):\n",
    "    tf.keras.backend.clear_session()\n",
    "    optimizer = tf.keras.optimizers.legacy.Adam(learning_rate=learning_rate)\n",
    "    model.compile(\n",
    "        optimizer=optimizer,\n",
    "        loss=\"binary_crossentropy\",\n",
    "        metrics=[\"mse\"]\n",
    "    )\n",
    "    callbacks = [\n",
    "        tf.keras.callbacks.ReduceLROnPlateau(monitor=\"val_loss\", patience=3, mode=\"min\"),\n",
    "        tf.keras.callbacks.EarlyStopping(monitor=\"val_loss\", patience=3)\n",
    "    ]\n",
    "\n",
    "    history = model.fit(\n",
    "        ds_train,\n",
    "        validation_data=ds_val,\n",
    "        epochs=max_epochs,\n",
    "        callbacks=callbacks,\n",
    "    )\n",
    "    \n",
    "    return history"
   ]
  }
 ],
 "metadata": {
  "language_info": {
   "name": "python"
  },
  "orig_nbformat": 4
 },
 "nbformat": 4,
 "nbformat_minor": 2
}
